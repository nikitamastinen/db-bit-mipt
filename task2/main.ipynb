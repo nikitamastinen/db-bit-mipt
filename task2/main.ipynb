{
 "cells": [
  {
   "cell_type": "code",
   "execution_count": 18,
   "id": "94346fd7",
   "metadata": {
    "ExecuteTime": {
     "end_time": "2023-04-29T15:59:39.367728Z",
     "start_time": "2023-04-29T15:59:39.366036Z"
    }
   },
   "outputs": [],
   "source": [
    "import redis\n",
    "import json\n",
    "import time"
   ]
  },
  {
   "cell_type": "code",
   "execution_count": 26,
   "id": "ade5f689",
   "metadata": {
    "ExecuteTime": {
     "end_time": "2023-04-29T16:01:07.543115Z",
     "start_time": "2023-04-29T16:01:07.535256Z"
    }
   },
   "outputs": [],
   "source": [
    "pool = redis.ConnectionPool(host='127.0.0.1', port=6379, db=0)\n",
    "r = redis.Redis(connection_pool=pool)"
   ]
  },
  {
   "cell_type": "code",
   "execution_count": 27,
   "id": "510afd68",
   "metadata": {
    "ExecuteTime": {
     "end_time": "2023-04-29T16:01:08.148067Z",
     "start_time": "2023-04-29T16:01:07.908236Z"
    }
   },
   "outputs": [
    {
     "data": {
      "text/plain": [
       "11351"
      ]
     },
     "execution_count": 27,
     "metadata": {},
     "output_type": "execute_result"
    }
   ],
   "source": [
    "data = None\n",
    "\n",
    "with open('large-file.json') as file:\n",
    "    data = json.load(file)\n",
    "\n",
    "len(data)"
   ]
  },
  {
   "cell_type": "code",
   "execution_count": 28,
   "id": "cb3b2686",
   "metadata": {
    "ExecuteTime": {
     "end_time": "2023-04-29T16:01:08.177520Z",
     "start_time": "2023-04-29T16:01:08.174954Z"
    }
   },
   "outputs": [],
   "source": [
    "def measure_time(func):\n",
    "    def wrapper(*args, **kwargs):\n",
    "        start = time.time()\n",
    "        result = func(*args, **kwargs)\n",
    "        end = time.time()\n",
    "        print(f\"{func.__name__} took {end - start} seconds to run.\")\n",
    "        return result\n",
    "    return wrapper"
   ]
  },
  {
   "cell_type": "code",
   "execution_count": 91,
   "id": "218af3fd",
   "metadata": {
    "ExecuteTime": {
     "end_time": "2023-04-29T16:35:28.732129Z",
     "start_time": "2023-04-29T16:35:28.728758Z"
    }
   },
   "outputs": [],
   "source": [
    "@measure_time\n",
    "def save_as_string():\n",
    "    r.set('as_string', json.dumps(data))\n",
    "\n",
    "@measure_time\n",
    "def save_as_hash():\n",
    "    r.hset('as_hash', 'as_hash', json.dumps(data))\n",
    "\n",
    "@measure_time\n",
    "def save_as_zset():\n",
    "    for key, value in enumerate(data):\n",
    "        r.zadd('as_zset', {json.dumps(value): key})\n",
    "\n",
    "@measure_time\n",
    "def save_as_json_list():\n",
    "    for value in data:\n",
    "        r.rpush('as_json_list', json.dumps(value))\n"
   ]
  },
  {
   "cell_type": "code",
   "execution_count": 92,
   "id": "a287ee93",
   "metadata": {
    "ExecuteTime": {
     "end_time": "2023-04-29T16:35:31.408060Z",
     "start_time": "2023-04-29T16:35:30.064278Z"
    }
   },
   "outputs": [
    {
     "name": "stdout",
     "output_type": "stream",
     "text": [
      "save_as_string took 0.1463298797607422 seconds to run.\n",
      "save_as_hash took 0.1550300121307373 seconds to run.\n",
      "save_as_zset took 0.488783597946167 seconds to run.\n",
      "save_as_json_list took 0.5516571998596191 seconds to run.\n"
     ]
    }
   ],
   "source": [
    "save_as_string()\n",
    "save_as_hash()\n",
    "save_as_zset()\n",
    "save_as_json_list()"
   ]
  },
  {
   "cell_type": "code",
   "execution_count": 93,
   "id": "dae6ec48",
   "metadata": {
    "ExecuteTime": {
     "end_time": "2023-04-29T16:35:32.437721Z",
     "start_time": "2023-04-29T16:35:32.435089Z"
    }
   },
   "outputs": [],
   "source": [
    "@measure_time\n",
    "def read_as_string():\n",
    "    r.get('as_string')\n",
    "\n",
    "@measure_time\n",
    "def read_as_hash():\n",
    "    r.hget('as_hash', 'as_hash')\n",
    "\n",
    "@measure_time\n",
    "def read_as_zset():\n",
    "    r.zrange('as_zset', 0, -1)\n",
    "\n",
    "@measure_time\n",
    "def read_as_json_list():\n",
    "    r.lrange('as_json_list', 0, -1)"
   ]
  },
  {
   "cell_type": "code",
   "execution_count": 94,
   "id": "e23fb171",
   "metadata": {
    "ExecuteTime": {
     "end_time": "2023-04-29T16:35:33.708162Z",
     "start_time": "2023-04-29T16:35:33.314382Z"
    }
   },
   "outputs": [
    {
     "name": "stdout",
     "output_type": "stream",
     "text": [
      "read_as_string took 0.025226831436157227 seconds to run.\n",
      "read_as_hash took 0.017345666885375977 seconds to run.\n",
      "read_as_zset took 0.055353403091430664 seconds to run.\n",
      "read_as_json_list took 0.29386091232299805 seconds to run.\n"
     ]
    }
   ],
   "source": [
    "read_as_string()\n",
    "read_as_hash()\n",
    "read_as_zset()\n",
    "read_as_json_list()"
   ]
  },
  {
   "cell_type": "markdown",
   "id": "ac348498",
   "metadata": {},
   "source": [
    "#### Запустим теперь кластер из 6 нод (см. файл create_cluster.ipynb)"
   ]
  },
  {
   "cell_type": "code",
   "execution_count": 112,
   "id": "2f49ef41",
   "metadata": {
    "ExecuteTime": {
     "end_time": "2023-04-29T17:20:06.168352Z",
     "start_time": "2023-04-29T17:20:06.164942Z"
    }
   },
   "outputs": [
    {
     "name": "stdout",
     "output_type": "stream",
     "text": [
      "read_as_string took 0.0008826255798339844 seconds to run.\n",
      "read_as_hash took 0.00011157989501953125 seconds to run.\n",
      "read_as_zset took 5.698204040527344e-05 seconds to run.\n",
      "read_as_json_list took 3.743171691894531e-05 seconds to run.\n",
      "read_as_string took 2.7894973754882812e-05 seconds to run.\n",
      "read_as_hash took 2.6941299438476562e-05 seconds to run.\n",
      "read_as_zset took 3.314018249511719e-05 seconds to run.\n",
      "read_as_json_list took 7.796287536621094e-05 seconds to run.\n"
     ]
    }
   ],
   "source": [
    "pool = redis.ConnectionPool(host='127.0.0.1', port=7001, db=0)\n",
    "r = redis.Redis(connection_pool=pool)\n",
    "\n",
    "read_as_string()\n",
    "read_as_hash()\n",
    "read_as_zset()\n",
    "read_as_json_list()\n",
    "\n",
    "read_as_string()\n",
    "read_as_hash()\n",
    "read_as_zset()\n",
    "read_as_json_list()"
   ]
  },
  {
   "cell_type": "markdown",
   "id": "d9e749ab",
   "metadata": {
    "ExecuteTime": {
     "end_time": "2023-04-29T17:23:35.710086Z",
     "start_time": "2023-04-29T17:23:35.708518Z"
    }
   },
   "source": [
    "#### Результаты производительности кода выше разные на одноузловом Redis и Redis Cluster из-за их архитектурных различий. Причиной того, что код работает быстрее на Redis, является то, что запросы из задания выполняются последовательно, то есть мы не экономим на горизонтальном масштабировании. Ведь время не меньше, чем максимум по всем нодам, а еще их запросы синхронизации также дают задержку."
   ]
  }
 ],
 "metadata": {
  "kernelspec": {
   "display_name": "Python 3 (ipykernel)",
   "language": "python",
   "name": "python3"
  },
  "language_info": {
   "codemirror_mode": {
    "name": "ipython",
    "version": 3
   },
   "file_extension": ".py",
   "mimetype": "text/x-python",
   "name": "python",
   "nbconvert_exporter": "python",
   "pygments_lexer": "ipython3",
   "version": "3.11.2"
  }
 },
 "nbformat": 4,
 "nbformat_minor": 5
}
